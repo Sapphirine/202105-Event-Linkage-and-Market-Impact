{
 "cells": [
  {
   "cell_type": "code",
   "execution_count": 1,
   "metadata": {},
   "outputs": [],
   "source": [
    "from nltk.twitter import Query, Streamer, Twitter, TweetViewer, TweetWriter, credsfromfile\n",
    "from pprint import pprint"
   ]
  },
  {
   "cell_type": "code",
   "execution_count": 2,
   "metadata": {},
   "outputs": [],
   "source": [
    "import pandas as pd\n",
    "import matplotlib.pyplot as plt"
   ]
  },
  {
   "cell_type": "code",
   "execution_count": 3,
   "metadata": {},
   "outputs": [],
   "source": [
    "sp500 = pd.read_csv('../output/SP500_base.csv')"
   ]
  },
  {
   "cell_type": "code",
   "execution_count": 38,
   "metadata": {},
   "outputs": [
    {
     "name": "stdout",
     "output_type": "stream",
     "text": [
      "RT @intel_la: Encuentra soluciones que entren en tu estrategia de utilización y ofrezcan un desempeño confiable y optimizado entre aplicaci…\n",
      "@dcominottim SMH. You require more apathy. If you go Intel, get the locked CPU. Trust me. Going 10900 made me so ap… https://t.co/EaWIF7VZCv\n",
      "RT @sheets851: Congrats to @AlexORJ1 2022 Dual Threat QB  from Sachse High School #Dallas #Texas… committed to #VirginiaTech\n",
      "\n",
      "#GoHokies  #V…\n",
      "RT @MaxAbrahms: I want to hear from all the intel hacks who testified that Hunter’s laptop was Russian disinformation. That’s the scariest…\n",
      "Accountability journalism: BlueLeaks Hack Suggests Bad Intel Fueled SJPD’s Violent Response to Recent Protests… https://t.co/chzUvsbOJQ\n",
      "@NobaDoba @Athecheat1 @intel All Macs in the store have ssds now, you clown\n",
      "RT @carmevallsb: @petitcomite_ @oriolmitja Jo ho he vist avui a tv3 a la carta, tenia molt d'interès en veure i escoltar l'Oriol Mitjà a \"…\n",
      "RT @DarrenJBeattie: Returning to War Room this afternoon at 5 to discuss the corrupt and discredited NATO-UK intel-cutout Bellingcat\n",
      "\n",
      "Don't…\n",
      "RT @Littleb29872980: Another BOMB washes ashore in Florida/The past month I have INTEL on 6 found on shores and oceans in Florida/ but wait…\n",
      "RT @North_Star88: https://t.co/c0rEMHBrIs\n",
      "Written 10 Tweets\n"
     ]
    }
   ],
   "source": [
    "tw = Twitter()\n",
    "tw = tw.tweets(#stream=False, \n",
    "               keywords=['intel'], \n",
    "                limit=10)"
   ]
  },
  {
   "cell_type": "code",
   "execution_count": 39,
   "metadata": {},
   "outputs": [],
   "source": [
    "#data = pd.read_csv('../output/sentiment_0_400_20210409.csv')\n",
    "data = pd.DataFrame(columns=['created_at', 'Security', 'text'])"
   ]
  },
  {
   "cell_type": "code",
   "execution_count": 40,
   "metadata": {},
   "outputs": [],
   "source": [
    "# invoke credential\n",
    "oauth = credsfromfile()"
   ]
  },
  {
   "cell_type": "code",
   "execution_count": 41,
   "metadata": {},
   "outputs": [
    {
     "name": "stdout",
     "output_type": "stream",
     "text": [
      "No Tweets available through REST API for those keywords\n"
     ]
    }
   ],
   "source": [
    "client = Query(**oauth)\n",
    "\n",
    "for s in sp500.Security:\n",
    "    tweets = client.search_tweets(keywords=s, limit=10)\n",
    "    for tweet in tweets:\n",
    "        # print(tweet['created_at'], tweet['text'])\n",
    "        new_row = {'created_at':tweet['created_at'], 'text':tweet['text'], 'Security':s}\n",
    "        data = data.append(new_row, ignore_index=True)"
   ]
  },
  {
   "cell_type": "code",
   "execution_count": 42,
   "metadata": {},
   "outputs": [
    {
     "data": {
      "text/plain": [
       "(549, 3)"
      ]
     },
     "execution_count": 42,
     "metadata": {},
     "output_type": "execute_result"
    }
   ],
   "source": [
    "data.shape"
   ]
  },
  {
   "cell_type": "code",
   "execution_count": 43,
   "metadata": {},
   "outputs": [],
   "source": [
    "data.to_csv('../output/sentiment_20210409.csv', index=False)"
   ]
  },
  {
   "cell_type": "code",
   "execution_count": null,
   "metadata": {},
   "outputs": [],
   "source": []
  }
 ],
 "metadata": {
  "kernelspec": {
   "display_name": "Python 3",
   "language": "python",
   "name": "python3"
  },
  "language_info": {
   "codemirror_mode": {
    "name": "ipython",
    "version": 3
   },
   "file_extension": ".py",
   "mimetype": "text/x-python",
   "name": "python",
   "nbconvert_exporter": "python",
   "pygments_lexer": "ipython3",
   "version": "3.8.3"
  }
 },
 "nbformat": 4,
 "nbformat_minor": 4
}
